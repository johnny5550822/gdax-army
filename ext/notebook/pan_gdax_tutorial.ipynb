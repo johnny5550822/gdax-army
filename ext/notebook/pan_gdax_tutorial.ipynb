{
 "cells": [
  {
   "cell_type": "markdown",
   "metadata": {},
   "source": [
    "# Place an order"
   ]
  },
  {
   "cell_type": "code",
   "execution_count": 1,
   "metadata": {},
   "outputs": [
    {
     "name": "stdout",
     "output_type": "stream",
     "text": [
      "[{'base_max_size': '10000', 'id': 'BTC-USD', 'quote_increment': '0.01', 'margin_enabled': True, 'display_name': 'BTC/USD', 'quote_currency': 'USD', 'status_message': None, 'base_currency': 'BTC', 'base_min_size': '0.01', 'status': 'online'}, {'base_max_size': '10000', 'id': 'BTC-GBP', 'quote_increment': '0.01', 'margin_enabled': False, 'display_name': 'BTC/GBP', 'quote_currency': 'GBP', 'status_message': None, 'base_currency': 'BTC', 'base_min_size': '0.01', 'status': 'online'}, {'base_max_size': '10000', 'id': 'BTC-EUR', 'quote_increment': '0.01', 'margin_enabled': False, 'display_name': 'BTC/EUR', 'quote_currency': 'EUR', 'status_message': None, 'base_currency': 'BTC', 'base_min_size': '0.01', 'status': 'online'}, {'base_max_size': '1000000', 'id': 'ETH-BTC', 'quote_increment': '0.00001', 'margin_enabled': False, 'display_name': 'ETH/BTC', 'quote_currency': 'BTC', 'status_message': None, 'base_currency': 'ETH', 'base_min_size': '0.01', 'status': 'online'}, {'base_max_size': '1000000', 'id': 'ETH-USD', 'quote_increment': '0.01', 'margin_enabled': True, 'display_name': 'ETH/USD', 'quote_currency': 'USD', 'status_message': None, 'base_currency': 'ETH', 'base_min_size': '0.01', 'status': 'online'}, {'base_max_size': '1000000', 'id': 'LTC-BTC', 'quote_increment': '0.00001', 'margin_enabled': False, 'display_name': 'LTC/BTC', 'quote_currency': 'BTC', 'status_message': None, 'base_currency': 'LTC', 'base_min_size': '0.01', 'status': 'online'}, {'base_max_size': '1000000', 'id': 'LTC-USD', 'quote_increment': '0.01', 'margin_enabled': False, 'display_name': 'LTC/USD', 'quote_currency': 'USD', 'status_message': None, 'base_currency': 'LTC', 'base_min_size': '0.01', 'status': 'online'}, {'base_max_size': '1000000', 'id': 'LTC-EUR', 'quote_increment': '0.01', 'margin_enabled': False, 'display_name': 'LTC/EUR', 'quote_currency': 'EUR', 'status_message': None, 'base_currency': 'LTC', 'base_min_size': '0.01', 'status': 'online'}, {'base_max_size': '1000000', 'id': 'ETH-EUR', 'quote_increment': '0.01', 'margin_enabled': False, 'display_name': 'ETH/EUR', 'quote_currency': 'EUR', 'status_message': None, 'base_currency': 'ETH', 'base_min_size': '0.01', 'status': 'online'}]\n"
     ]
    }
   ],
   "source": [
    "import requests\n",
    "# sandbox api base\n",
    "api_base = 'https://api-public.sandbox.gdax.com'\n",
    "response = requests.get(api_base + '/products')\n",
    "print(response.json())"
   ]
  },
  {
   "cell_type": "markdown",
   "metadata": {},
   "source": [
    "### Notes\n",
    "\n",
    "- We are going to keep track of the **product_id** field in order to palce an order later.\n",
    "- Covert code to function"
   ]
  },
  {
   "cell_type": "code",
   "execution_count": 2,
   "metadata": {
    "collapsed": true
   },
   "outputs": [],
   "source": [
    "def products():\n",
    "    response = requests.get(api_base + '/products')\n",
    "    # check for invalid api response\n",
    "    if response.status_code is not 200:\n",
    "        raise Exception('Invalid GDAX Status Code: %d' % response.status_code)\n",
    "    return response.json()"
   ]
  },
  {
   "cell_type": "code",
   "execution_count": 3,
   "metadata": {},
   "outputs": [
    {
     "data": {
      "text/plain": [
       "[{'base_currency': 'BTC',\n",
       "  'base_max_size': '10000',\n",
       "  'base_min_size': '0.01',\n",
       "  'display_name': 'BTC/USD',\n",
       "  'id': 'BTC-USD',\n",
       "  'margin_enabled': True,\n",
       "  'quote_currency': 'USD',\n",
       "  'quote_increment': '0.01',\n",
       "  'status': 'online',\n",
       "  'status_message': None},\n",
       " {'base_currency': 'BTC',\n",
       "  'base_max_size': '10000',\n",
       "  'base_min_size': '0.01',\n",
       "  'display_name': 'BTC/GBP',\n",
       "  'id': 'BTC-GBP',\n",
       "  'margin_enabled': False,\n",
       "  'quote_currency': 'GBP',\n",
       "  'quote_increment': '0.01',\n",
       "  'status': 'online',\n",
       "  'status_message': None},\n",
       " {'base_currency': 'BTC',\n",
       "  'base_max_size': '10000',\n",
       "  'base_min_size': '0.01',\n",
       "  'display_name': 'BTC/EUR',\n",
       "  'id': 'BTC-EUR',\n",
       "  'margin_enabled': False,\n",
       "  'quote_currency': 'EUR',\n",
       "  'quote_increment': '0.01',\n",
       "  'status': 'online',\n",
       "  'status_message': None},\n",
       " {'base_currency': 'ETH',\n",
       "  'base_max_size': '1000000',\n",
       "  'base_min_size': '0.01',\n",
       "  'display_name': 'ETH/BTC',\n",
       "  'id': 'ETH-BTC',\n",
       "  'margin_enabled': False,\n",
       "  'quote_currency': 'BTC',\n",
       "  'quote_increment': '0.00001',\n",
       "  'status': 'online',\n",
       "  'status_message': None},\n",
       " {'base_currency': 'ETH',\n",
       "  'base_max_size': '1000000',\n",
       "  'base_min_size': '0.01',\n",
       "  'display_name': 'ETH/USD',\n",
       "  'id': 'ETH-USD',\n",
       "  'margin_enabled': True,\n",
       "  'quote_currency': 'USD',\n",
       "  'quote_increment': '0.01',\n",
       "  'status': 'online',\n",
       "  'status_message': None},\n",
       " {'base_currency': 'LTC',\n",
       "  'base_max_size': '1000000',\n",
       "  'base_min_size': '0.01',\n",
       "  'display_name': 'LTC/BTC',\n",
       "  'id': 'LTC-BTC',\n",
       "  'margin_enabled': False,\n",
       "  'quote_currency': 'BTC',\n",
       "  'quote_increment': '0.00001',\n",
       "  'status': 'online',\n",
       "  'status_message': None},\n",
       " {'base_currency': 'LTC',\n",
       "  'base_max_size': '1000000',\n",
       "  'base_min_size': '0.01',\n",
       "  'display_name': 'LTC/USD',\n",
       "  'id': 'LTC-USD',\n",
       "  'margin_enabled': False,\n",
       "  'quote_currency': 'USD',\n",
       "  'quote_increment': '0.01',\n",
       "  'status': 'online',\n",
       "  'status_message': None},\n",
       " {'base_currency': 'LTC',\n",
       "  'base_max_size': '1000000',\n",
       "  'base_min_size': '0.01',\n",
       "  'display_name': 'LTC/EUR',\n",
       "  'id': 'LTC-EUR',\n",
       "  'margin_enabled': False,\n",
       "  'quote_currency': 'EUR',\n",
       "  'quote_increment': '0.01',\n",
       "  'status': 'online',\n",
       "  'status_message': None},\n",
       " {'base_currency': 'ETH',\n",
       "  'base_max_size': '1000000',\n",
       "  'base_min_size': '0.01',\n",
       "  'display_name': 'ETH/EUR',\n",
       "  'id': 'ETH-EUR',\n",
       "  'margin_enabled': False,\n",
       "  'quote_currency': 'EUR',\n",
       "  'quote_increment': '0.01',\n",
       "  'status': 'online',\n",
       "  'status_message': None}]"
      ]
     },
     "execution_count": 3,
     "metadata": {},
     "output_type": "execute_result"
    }
   ],
   "source": [
    "products()"
   ]
  },
  {
   "cell_type": "markdown",
   "metadata": {},
   "source": [
    "# Getting Authentication Working\n",
    "\n",
    "- The products endpoint was public, so there wasn’t any authentication required. \n",
    "- But many other actions (including placing an order) do require authentication.\n",
    "\n",
    "#### There are 4 auth headers that we need to pass with every request:\n",
    "\n",
    "- **CB-ACCESS-KEY**: The API key that we generated earlier.\n",
    "- **CB-ACCESS-PASSPHRASE**: The passphrase that was shown when creating the API key.\n",
    "- **CB-ACCESS-TIMESTAMP**: A timestamp for the request (the number of seconds since the Unix Epoch in UTC - coordinated universal time). We can generate this using time.time().\n",
    "- **CB-ACCESS-SIGN**: [The base64-encoded message signature](https://crypto.stackexchange.com/questions/35060/how-is-the-base64-encoded-signature-in-craig-wrights-proof-constructed).\n",
    "\n",
    "## How do we sign a message?\n",
    "\n",
    "According to the API documentation, the message signature header is generated in four steps:\n",
    "\n",
    "- Combine the timestamp, request method, request path, and body into a string. \n",
    "- base64-encode the combined string.\n",
    "- Generate a [HMAC key](https://www.google.com/url?sa=t&rct=j&q=&esrc=s&source=web&cd=3&cad=rja&uact=8&ved=0ahUKEwjqiuX3kvfXAhUM3mMKHfnLD9QQFggvMAI&url=https%3A%2F%2Fen.wikipedia.org%2Fwiki%2FHash-based_message_authentication_code&usg=AOvVaw1tSM2Ftz2egrVTpmA26nVF) by base64-decoding the API secret key.\n",
    "- Use the HMAC key to create a sha256 HMAC with the encoded combined string."
   ]
  },
  {
   "cell_type": "code",
   "execution_count": 17,
   "metadata": {
    "collapsed": true
   },
   "outputs": [],
   "source": [
    "import base64, hashlib, hmac, time\n",
    "from requests.auth import AuthBase\n",
    "\n",
    "class GDAXRequestAuth(AuthBase):\n",
    "    def __init__(self, api_key, secret_key, passphrase):\n",
    "        self.api_key = api_key\n",
    "        self.secret_key = secret_key\n",
    "        self.passphrase = passphrase\n",
    "    \n",
    "    def __call__(self, request):\n",
    "        timestamp = str(time.time())\n",
    "        message = timestamp + request.method + request.path_url + (request.body or '')\n",
    "        hmac_key = base64.b64decode(self.secret_key)\n",
    "        signature = hmac.new(hmac_key, message.encode('utf-8'), hashlib.sha256)\n",
    "        signature_b64 = base64.b64encode(signature.digest())\n",
    "        request.headers.update({\n",
    "            'CB-ACCESS-SIGN': signature_b64,\n",
    "            'CB-ACCESS-TIMESTAMP': timestamp,\n",
    "            'CB-ACCESS-KEY': self.api_key,\n",
    "            'CB-ACCESS-PASSPHRASE': self.passphrase,\n",
    "            'Content-Type': 'application/json'\n",
    "        })\n",
    "        return request"
   ]
  },
  {
   "cell_type": "code",
   "execution_count": 18,
   "metadata": {},
   "outputs": [
    {
     "ename": "NameError",
     "evalue": "name 'api_key' is not defined",
     "output_type": "error",
     "traceback": [
      "\u001b[0;31m---------------------------------------------------------------------------\u001b[0m",
      "\u001b[0;31mNameError\u001b[0m                                 Traceback (most recent call last)",
      "\u001b[0;32m<ipython-input-18-47591704e13b>\u001b[0m in \u001b[0;36m<module>\u001b[0;34m()\u001b[0m\n\u001b[0;32m----> 1\u001b[0;31m \u001b[0mauth\u001b[0m \u001b[0;34m=\u001b[0m \u001b[0mGDAXRequestAuth\u001b[0m\u001b[0;34m(\u001b[0m\u001b[0mapi_key\u001b[0m\u001b[0;34m,\u001b[0m \u001b[0mapi_secret\u001b[0m\u001b[0;34m,\u001b[0m \u001b[0mpassphrase\u001b[0m\u001b[0;34m)\u001b[0m\u001b[0;34m\u001b[0m\u001b[0m\n\u001b[0m\u001b[1;32m      2\u001b[0m \u001b[0mresponse\u001b[0m \u001b[0;34m=\u001b[0m \u001b[0mrequests\u001b[0m\u001b[0;34m.\u001b[0m\u001b[0mpost\u001b[0m\u001b[0;34m(\u001b[0m\u001b[0morder_url\u001b[0m\u001b[0;34m,\u001b[0m \u001b[0mdata\u001b[0m\u001b[0;34m=\u001b[0m\u001b[0mdata\u001b[0m\u001b[0;34m,\u001b[0m \u001b[0mauth\u001b[0m\u001b[0;34m=\u001b[0m\u001b[0mauth\u001b[0m\u001b[0;34m)\u001b[0m\u001b[0;34m\u001b[0m\u001b[0m\n",
      "\u001b[0;31mNameError\u001b[0m: name 'api_key' is not defined"
     ]
    }
   ],
   "source": [
    "auth = GDAXRequestAuth(api_key, api_secret, passphrase)\n",
    "response = requests.post(order_url, data=data, auth=auth)"
   ]
  },
  {
   "cell_type": "code",
   "execution_count": 20,
   "metadata": {},
   "outputs": [
    {
     "name": "stdout",
     "output_type": "stream",
     "text": [
      "{'executed_value': '0.0000000000000000', 'created_at': '2017-12-07T05:50:11.920129Z', 'size': '0.01000000', 'post_only': False, 'stp': 'dc', 'type': 'market', 'id': '5f15ea32-3d8b-4c5a-b2e3-b42c8f312bd1', 'status': 'pending', 'side': 'buy', 'product_id': 'BTC-USD', 'settled': False, 'funds': '299.2559625900000000', 'fill_fees': '0.0000000000000000', 'filled_size': '0.00000000'}\n"
     ]
    }
   ],
   "source": [
    "import json\n",
    "\n",
    "api_base = 'https://api-public.sandbox.gdax.com'\n",
    "api_key = 'a5fb0d9876445d9c38eed687eab5f2d9'\n",
    "api_secret = 'wxn1vztWzQBGfMFZdKRr93UJAf48AHw0fPRD07Z7r38IgoJ/AyC9aS7qeXuVt2OjKlH9KTF9o8rAfrAS6U/itQ=='\n",
    "passphrase = 'sf4omjcl6d'\n",
    "\n",
    "# use our request auth object\n",
    "auth = GDAXRequestAuth(api_key, api_secret, passphrase)\n",
    "order_url = api_base + '/orders'\n",
    "order_data = {\n",
    "    'type': 'market',\n",
    "    'side': 'buy',\n",
    "    'product_id': 'BTC-USD',\n",
    "    'size': '0.01'\n",
    "}\n",
    "response = requests.post(order_url, data=json.dumps(order_data), auth=auth)\n",
    "print(response.json())"
   ]
  },
  {
   "cell_type": "markdown",
   "metadata": {},
   "source": [
    "- However, if you look closely at our results, you’ll notice that the status field of the order is set to pending.\n",
    "- Before we can be sure that our order went through, we’ll need to use the order status endpoint (/order/<order-id>). \n",
    "- The order-id value is taken from the id field of the previous response."
   ]
  },
  {
   "cell_type": "code",
   "execution_count": 22,
   "metadata": {},
   "outputs": [
    {
     "name": "stdout",
     "output_type": "stream",
     "text": [
      "{'executed_value': '299.2500000000000000', 'created_at': '2017-12-07T05:50:11.920129Z', 'side': 'buy', 'size': '0.01000000', 'post_only': False, 'stp': 'dc', 'type': 'market', 'id': '5f15ea32-3d8b-4c5a-b2e3-b42c8f312bd1', 'status': 'done', 'done_reason': 'filled', 'product_id': 'BTC-USD', 'settled': True, 'done_at': '2017-12-07T05:50:11.925Z', 'funds': '299.2559625900000000', 'fill_fees': '0.7481250000000000', 'filled_size': '0.00033250'}\n"
     ]
    }
   ],
   "source": [
    "order_id = '5f15ea32-3d8b-4c5a-b2e3-b42c8f312bd1'\n",
    "order_url = api_base + '/orders/' + order_id\n",
    "response = requests.get(order_url, auth=auth)\n",
    "print(response.json())"
   ]
  },
  {
   "cell_type": "markdown",
   "metadata": {},
   "source": [
    "-  turn these endpoint calls into buy_market and order_status functions for easier re-use."
   ]
  },
  {
   "cell_type": "code",
   "execution_count": 35,
   "metadata": {
    "collapsed": true
   },
   "outputs": [],
   "source": [
    "def buy_market(product_id, size):\n",
    "    auth = GDAXRequestAuth(api_key, api_secret, passphrase)\n",
    "    order_data = {\n",
    "        'type': 'market',\n",
    "        'side': 'buy',\n",
    "        'product_id': product_id,\n",
    "        'size': size\n",
    "    }\n",
    "    response = requests.post(api_base + '/orders', data=json.dumps(order_data), auth=auth)\n",
    "    if response.status_code is not 200:\n",
    "        raise Exception('Invalid GDAX Status Code: %d' % response.status_code)\n",
    "    return response.json()\n",
    "\n",
    "def sell_market(product_id, size):\n",
    "    auth = GDAXRequestAuth(api_key, api_secret, passphrase)\n",
    "    order_data = {\n",
    "        'type': 'market',\n",
    "        'side': 'sell',\n",
    "        'product_id': product_id,\n",
    "        'size': size\n",
    "    }\n",
    "    response = requests.post(api_base + '/orders', data=json.dumps(order_data), auth=auth)\n",
    "    if response.status_code is not 200:\n",
    "        raise Exception('Invalid GDAX Status Code: %d' % response.status_code)\n",
    "    return response.json()\n",
    "\n",
    "def order_status(order_id):\n",
    "    order_url = api_base + '/orders/' + order_id\n",
    "    response = requests.get(order_url, auth=auth)\n",
    "    if response.status_code is not 200:\n",
    "        raise Exception('Invalid GDAX Status Code: %d' % response.status_code)\n",
    "    return response.json()"
   ]
  },
  {
   "cell_type": "code",
   "execution_count": 53,
   "metadata": {},
   "outputs": [
    {
     "data": {
      "text/plain": [
       "{'created_at': '2017-12-07T06:17:53.109956Z',\n",
       " 'executed_value': '0.0000000000000000',\n",
       " 'fill_fees': '0.0000000000000000',\n",
       " 'filled_size': '0.00000000',\n",
       " 'funds': '39900.2506857800000000',\n",
       " 'id': '7ee10baf-f0ed-4897-95f2-ccfbbd354288',\n",
       " 'post_only': False,\n",
       " 'product_id': 'BTC-USD',\n",
       " 'settled': False,\n",
       " 'side': 'buy',\n",
       " 'size': '0.01000000',\n",
       " 'status': 'pending',\n",
       " 'stp': 'dc',\n",
       " 'type': 'market'}"
      ]
     },
     "execution_count": 53,
     "metadata": {},
     "output_type": "execute_result"
    }
   ],
   "source": [
    "product_id = 'BTC-USD'\n",
    "buy_market(product_id,'0.01')"
   ]
  },
  {
   "cell_type": "code",
   "execution_count": 54,
   "metadata": {},
   "outputs": [
    {
     "data": {
      "text/plain": [
       "{'created_at': '2017-12-07T06:10:21.824301Z',\n",
       " 'done_at': '2017-12-07T06:10:21.834Z',\n",
       " 'done_reason': 'filled',\n",
       " 'executed_value': '2992.5180000000000000',\n",
       " 'fill_fees': '7.4812950000000000',\n",
       " 'filled_size': '0.00332502',\n",
       " 'funds': '2992.5246658300000000',\n",
       " 'id': '12d739bc-5467-4fd5-81f6-b84f287afcb3',\n",
       " 'post_only': False,\n",
       " 'product_id': 'BTC-USD',\n",
       " 'settled': True,\n",
       " 'side': 'buy',\n",
       " 'size': '0.01000000',\n",
       " 'status': 'done',\n",
       " 'stp': 'dc',\n",
       " 'type': 'market'}"
      ]
     },
     "execution_count": 54,
     "metadata": {},
     "output_type": "execute_result"
    }
   ],
   "source": [
    "order_status('12d739bc-5467-4fd5-81f6-b84f287afcb3')"
   ]
  },
  {
   "cell_type": "code",
   "execution_count": 55,
   "metadata": {},
   "outputs": [
    {
     "data": {
      "text/plain": [
       "{'created_at': '2017-12-07T06:17:58.507264Z',\n",
       " 'executed_value': '0.0000000000000000',\n",
       " 'fill_fees': '0.0000000000000000',\n",
       " 'filled_size': '0.00000000',\n",
       " 'id': 'cb738d59-73cf-42df-b54d-7c85e389a185',\n",
       " 'post_only': False,\n",
       " 'product_id': 'BTC-USD',\n",
       " 'settled': False,\n",
       " 'side': 'sell',\n",
       " 'size': '0.01000000',\n",
       " 'status': 'pending',\n",
       " 'stp': 'dc',\n",
       " 'type': 'market'}"
      ]
     },
     "execution_count": 55,
     "metadata": {},
     "output_type": "execute_result"
    }
   ],
   "source": [
    "sell_market(product_id, '0.01')"
   ]
  },
  {
   "cell_type": "markdown",
   "metadata": {},
   "source": [
    "### API call\n",
    "\n",
    "- Market orders are great, but in order to make any headway into more sophisticated trading we’re going to need to do limit orders. \n",
    "- A limit order allows you to set the price at which you’re willing to buy (or sell) a coin, and it will execute the trade at that price or better. \n",
    "- In our case, let’s see we want to buy a single Ether at a price of $250$ or better.\n",
    "\n",
    "- For limit orders, there are a few new parameters that we need to send: \n",
    "    - price (400) \n",
    "    - and size (1) are the only two that are required,\n",
    "- but there are a few optional ones as well. \n",
    "    - time_in_force defines how long we want the limit order to last for\n",
    "    - , and there are a **few options to choose from (see below)**. \n",
    "        - cancel_after is used in conjunction with time_in_force, \n",
    "        - and will set a time limit to cancel orders after a certain amount of time. \n",
    "        \n",
    "- Lastly, the post_only flag specifies that the order should only make liquidity, and will otherwise result in a rejected order."
   ]
  },
  {
   "cell_type": "markdown",
   "metadata": {},
   "source": [
    "### Time in force policies:\n",
    "\n",
    "- GTC: Good till canceled. Orders remain upon until they’re manually canceled.\n",
    "- GTT Good till time. GTT orders can set a cancel_after parameter that will cancel the order after a certain amount of time (e.g. minute, hour, day).\n",
    "- IOC: Immediate or cancel. If the entire order size cannot be filled, the order is partially filled and the rest is canceled.\n",
    "- FOK: Fill or kill. If the entire order size cannot be filled, the order is rejected."
   ]
  },
  {
   "cell_type": "code",
   "execution_count": 61,
   "metadata": {
    "collapsed": true
   },
   "outputs": [],
   "source": [
    "def buy_limit(product_id, price, size, time_in_force='GTC', cancel_after=None, post_only=None):\n",
    "    auth = GDAXRequestAuth(api_key, api_secret, passphrase)\n",
    "    order_data = {\n",
    "        'type': 'limit',\n",
    "        'side': 'buy',\n",
    "        'product_id': product_id,\n",
    "        'price': price,\n",
    "        'size': size,\n",
    "        'time_in_force': time_in_force\n",
    "    }\n",
    "    if 'time_in_force' is 'GTT':\n",
    "        order_data['cancel_after'] = cancel_after \n",
    "    if 'time_in_force' not in ['IOC', 'FOK']:\n",
    "        order_data['post_only'] = post_only\n",
    "    response = requests.post(api_base + '/orders', data=json.dumps(order_data), auth=auth)\n",
    "    if response.status_code is not 200:\n",
    "        raise Exception('Invalid GDAX Status Code: %d' % response.status_code)\n",
    "    return response.json()\n",
    "\n",
    "def sell_limit(product_id, price, size, time_in_force='GTC', cancel_after=None, post_only=None):\n",
    "    auth = GDAXRequestAuth(api_key, api_secret, passphrase)\n",
    "    order_data = {\n",
    "        'type': 'limit',\n",
    "        'side': 'sell',\n",
    "        'product_id': product_id,\n",
    "        'price': price,\n",
    "        'size': size,\n",
    "        'time_in_force': time_in_force\n",
    "    }\n",
    "    if 'time_in_force' is 'GTT':\n",
    "        order_data['cancel_after'] = cancel_after \n",
    "    if 'time_in_force' not in ['IOC', 'FOK']:\n",
    "        order_data['post_only'] = post_only\n",
    "    response = requests.post(api_base + '/orders', data=json.dumps(order_data), auth=auth)\n",
    "    if response.status_code is not 200:\n",
    "        raise Exception('Invalid GDAX Status Code: %d' % response.status_code)\n",
    "    return response.json()"
   ]
  },
  {
   "cell_type": "code",
   "execution_count": 83,
   "metadata": {},
   "outputs": [
    {
     "ename": "Exception",
     "evalue": "Invalid GDAX Status Code: 400",
     "output_type": "error",
     "traceback": [
      "\u001b[0;31m---------------------------------------------------------------------------\u001b[0m",
      "\u001b[0;31mException\u001b[0m                                 Traceback (most recent call last)",
      "\u001b[0;32m<ipython-input-83-f219f4277471>\u001b[0m in \u001b[0;36m<module>\u001b[0;34m()\u001b[0m\n\u001b[1;32m      1\u001b[0m \u001b[0mprice\u001b[0m \u001b[0;34m=\u001b[0m \u001b[0;34m'1111'\u001b[0m\u001b[0;34m\u001b[0m\u001b[0m\n\u001b[1;32m      2\u001b[0m \u001b[0msize\u001b[0m \u001b[0;34m=\u001b[0m \u001b[0;34m'0.01'\u001b[0m\u001b[0;34m\u001b[0m\u001b[0m\n\u001b[0;32m----> 3\u001b[0;31m \u001b[0mbuy_limit\u001b[0m\u001b[0;34m(\u001b[0m\u001b[0mproduct_id\u001b[0m\u001b[0;34m,\u001b[0m \u001b[0mprice\u001b[0m\u001b[0;34m,\u001b[0m \u001b[0msize\u001b[0m\u001b[0;34m,\u001b[0m \u001b[0mtime_in_force\u001b[0m\u001b[0;34m=\u001b[0m\u001b[0;34m'GTT'\u001b[0m\u001b[0;34m,\u001b[0m \u001b[0mcancel_after\u001b[0m\u001b[0;34m=\u001b[0m\u001b[0;32mNone\u001b[0m\u001b[0;34m,\u001b[0m \u001b[0mpost_only\u001b[0m\u001b[0;34m=\u001b[0m\u001b[0;32mNone\u001b[0m\u001b[0;34m)\u001b[0m\u001b[0;34m\u001b[0m\u001b[0m\n\u001b[0m",
      "\u001b[0;32m<ipython-input-61-563e18ec7265>\u001b[0m in \u001b[0;36mbuy_limit\u001b[0;34m(product_id, price, size, time_in_force, cancel_after, post_only)\u001b[0m\n\u001b[1;32m     15\u001b[0m     \u001b[0mresponse\u001b[0m \u001b[0;34m=\u001b[0m \u001b[0mrequests\u001b[0m\u001b[0;34m.\u001b[0m\u001b[0mpost\u001b[0m\u001b[0;34m(\u001b[0m\u001b[0mapi_base\u001b[0m \u001b[0;34m+\u001b[0m \u001b[0;34m'/orders'\u001b[0m\u001b[0;34m,\u001b[0m \u001b[0mdata\u001b[0m\u001b[0;34m=\u001b[0m\u001b[0mjson\u001b[0m\u001b[0;34m.\u001b[0m\u001b[0mdumps\u001b[0m\u001b[0;34m(\u001b[0m\u001b[0morder_data\u001b[0m\u001b[0;34m)\u001b[0m\u001b[0;34m,\u001b[0m \u001b[0mauth\u001b[0m\u001b[0;34m=\u001b[0m\u001b[0mauth\u001b[0m\u001b[0;34m)\u001b[0m\u001b[0;34m\u001b[0m\u001b[0m\n\u001b[1;32m     16\u001b[0m     \u001b[0;32mif\u001b[0m \u001b[0mresponse\u001b[0m\u001b[0;34m.\u001b[0m\u001b[0mstatus_code\u001b[0m \u001b[0;32mis\u001b[0m \u001b[0;32mnot\u001b[0m \u001b[0;36m200\u001b[0m\u001b[0;34m:\u001b[0m\u001b[0;34m\u001b[0m\u001b[0m\n\u001b[0;32m---> 17\u001b[0;31m         \u001b[0;32mraise\u001b[0m \u001b[0mException\u001b[0m\u001b[0;34m(\u001b[0m\u001b[0;34m'Invalid GDAX Status Code: %d'\u001b[0m \u001b[0;34m%\u001b[0m \u001b[0mresponse\u001b[0m\u001b[0;34m.\u001b[0m\u001b[0mstatus_code\u001b[0m\u001b[0;34m)\u001b[0m\u001b[0;34m\u001b[0m\u001b[0m\n\u001b[0m\u001b[1;32m     18\u001b[0m     \u001b[0;32mreturn\u001b[0m \u001b[0mresponse\u001b[0m\u001b[0;34m.\u001b[0m\u001b[0mjson\u001b[0m\u001b[0;34m(\u001b[0m\u001b[0;34m)\u001b[0m\u001b[0;34m\u001b[0m\u001b[0m\n\u001b[1;32m     19\u001b[0m \u001b[0;34m\u001b[0m\u001b[0m\n",
      "\u001b[0;31mException\u001b[0m: Invalid GDAX Status Code: 400"
     ]
    }
   ],
   "source": [
    "price = '1111'\n",
    "size = '0.01'\n",
    "buy_limit(product_id, price, size, time_in_force='GTT', cancel_after=None, post_only=None)"
   ]
  },
  {
   "cell_type": "code",
   "execution_count": 73,
   "metadata": {},
   "outputs": [
    {
     "data": {
      "text/plain": [
       "{'created_at': '2017-12-07T06:58:08.236135Z',\n",
       " 'executed_value': '0.0000000000000000',\n",
       " 'fill_fees': '0.0000000000000000',\n",
       " 'filled_size': '0.00000000',\n",
       " 'id': '33ce7ec9-3307-41a6-abbb-56b982768191',\n",
       " 'post_only': False,\n",
       " 'price': '111.00000000',\n",
       " 'product_id': 'BTC-USD',\n",
       " 'settled': False,\n",
       " 'side': 'sell',\n",
       " 'size': '0.01000000',\n",
       " 'status': 'pending',\n",
       " 'stp': 'dc',\n",
       " 'time_in_force': 'GTC',\n",
       " 'type': 'limit'}"
      ]
     },
     "execution_count": 73,
     "metadata": {},
     "output_type": "execute_result"
    }
   ],
   "source": [
    "price = '111'\n",
    "size = '0.01'\n",
    "sell_limit(product_id, price, size, time_in_force='GTC', cancel_after=None, post_only=False)"
   ]
  },
  {
   "cell_type": "markdown",
   "metadata": {},
   "source": [
    "# Fees\n",
    "\n",
    "### acknowledge the fees structure of GDAX. \n",
    "- Rather than flat fees on buying and selling, GDAX distinguishes between “Makers” and “Takers,” \n",
    "    - which are named for transactions that provide liquidity to a market or remove liquidity from a market.\n",
    "    \n",
    "#### Here’s an example that they describe.\n",
    "- There is an existing SELL order for 5 BTC at 100 USD on the order book. \n",
    "- You enter a BUY order for 7 BTC at 100 USD. \n",
    "- 5 BTC of your BUY order are immediately matched and you are charged the taker fee because you are taking liquidity from the order book. \n",
    "- The remaining 2 BTC of your order are now sitting on the BID side of the order book. \n",
    "- A SELL order for 2 BTC at 100 USD arrives and matches against your 2 BTC BUY order. In this case you provided liquidity and are not charged any fees.\n",
    "\n",
    "- The maker fee is always 0%, which is great! \n",
    "- The taker fee starts at 0.25% (0.3% for ETH) and decreases according to your volume. \n",
    "- However, the in order to receive any discounts, you have to make up a pretty significant percentage of GDAX trading volume (at least 1% of the last 30-days worth of volume). \n",
    "- Unless you’re trading thousands of Bitcoin or Ether, you’re unlikely to wind up with fee discounts."
   ]
  },
  {
   "cell_type": "markdown",
   "metadata": {},
   "source": [
    "## There are many more API endpoints to cover, \n",
    "#### and way more complex things that you can do with the API. For example, you can:\n",
    "\n",
    "- Automate deposits and withdrawals to and from bank accounts\n",
    "- Enable margin trading to trade with more money (or short-sell)\n",
    "- Scan the order book for arbitrage opportunities\n",
    "- Use web sockets to get the realtime market data"
   ]
  },
  {
   "cell_type": "code",
   "execution_count": null,
   "metadata": {
    "collapsed": true
   },
   "outputs": [],
   "source": []
  }
 ],
 "metadata": {
  "kernelspec": {
   "display_name": "Python [conda root]",
   "language": "python",
   "name": "conda-root-py"
  },
  "language_info": {
   "codemirror_mode": {
    "name": "ipython",
    "version": 3
   },
   "file_extension": ".py",
   "mimetype": "text/x-python",
   "name": "python",
   "nbconvert_exporter": "python",
   "pygments_lexer": "ipython3",
   "version": "3.5.3"
  }
 },
 "nbformat": 4,
 "nbformat_minor": 2
}
