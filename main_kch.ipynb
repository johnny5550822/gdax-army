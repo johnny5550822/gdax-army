{
 "cells": [
  {
   "cell_type": "code",
   "execution_count": 1,
   "metadata": {
    "collapsed": false,
    "scrolled": true
   },
   "outputs": [
    {
     "data": {
      "text/plain": [
       "[{u'base_currency': u'BTC',\n",
       "  u'base_max_size': u'10000',\n",
       "  u'base_min_size': u'0.01',\n",
       "  u'display_name': u'BTC/USD',\n",
       "  u'id': u'BTC-USD',\n",
       "  u'margin_enabled': True,\n",
       "  u'quote_currency': u'USD',\n",
       "  u'quote_increment': u'0.01',\n",
       "  u'status': u'online',\n",
       "  u'status_message': None},\n",
       " {u'base_currency': u'BTC',\n",
       "  u'base_max_size': u'10000',\n",
       "  u'base_min_size': u'0.01',\n",
       "  u'display_name': u'BTC/GBP',\n",
       "  u'id': u'BTC-GBP',\n",
       "  u'margin_enabled': False,\n",
       "  u'quote_currency': u'GBP',\n",
       "  u'quote_increment': u'0.01',\n",
       "  u'status': u'online',\n",
       "  u'status_message': None},\n",
       " {u'base_currency': u'BTC',\n",
       "  u'base_max_size': u'10000',\n",
       "  u'base_min_size': u'0.01',\n",
       "  u'display_name': u'BTC/EUR',\n",
       "  u'id': u'BTC-EUR',\n",
       "  u'margin_enabled': False,\n",
       "  u'quote_currency': u'EUR',\n",
       "  u'quote_increment': u'0.01',\n",
       "  u'status': u'online',\n",
       "  u'status_message': None},\n",
       " {u'base_currency': u'ETH',\n",
       "  u'base_max_size': u'1000000',\n",
       "  u'base_min_size': u'0.01',\n",
       "  u'display_name': u'ETH/BTC',\n",
       "  u'id': u'ETH-BTC',\n",
       "  u'margin_enabled': False,\n",
       "  u'quote_currency': u'BTC',\n",
       "  u'quote_increment': u'0.00001',\n",
       "  u'status': u'online',\n",
       "  u'status_message': None},\n",
       " {u'base_currency': u'ETH',\n",
       "  u'base_max_size': u'1000000',\n",
       "  u'base_min_size': u'0.01',\n",
       "  u'display_name': u'ETH/USD',\n",
       "  u'id': u'ETH-USD',\n",
       "  u'margin_enabled': True,\n",
       "  u'quote_currency': u'USD',\n",
       "  u'quote_increment': u'0.01',\n",
       "  u'status': u'online',\n",
       "  u'status_message': None},\n",
       " {u'base_currency': u'LTC',\n",
       "  u'base_max_size': u'1000000',\n",
       "  u'base_min_size': u'0.01',\n",
       "  u'display_name': u'LTC/BTC',\n",
       "  u'id': u'LTC-BTC',\n",
       "  u'margin_enabled': False,\n",
       "  u'quote_currency': u'BTC',\n",
       "  u'quote_increment': u'0.00001',\n",
       "  u'status': u'online',\n",
       "  u'status_message': None},\n",
       " {u'base_currency': u'LTC',\n",
       "  u'base_max_size': u'1000000',\n",
       "  u'base_min_size': u'0.01',\n",
       "  u'display_name': u'LTC/USD',\n",
       "  u'id': u'LTC-USD',\n",
       "  u'margin_enabled': False,\n",
       "  u'quote_currency': u'USD',\n",
       "  u'quote_increment': u'0.01',\n",
       "  u'status': u'online',\n",
       "  u'status_message': None},\n",
       " {u'base_currency': u'LTC',\n",
       "  u'base_max_size': u'1000000',\n",
       "  u'base_min_size': u'0.01',\n",
       "  u'display_name': u'LTC/EUR',\n",
       "  u'id': u'LTC-EUR',\n",
       "  u'margin_enabled': False,\n",
       "  u'quote_currency': u'EUR',\n",
       "  u'quote_increment': u'0.01',\n",
       "  u'status': u'online',\n",
       "  u'status_message': None},\n",
       " {u'base_currency': u'ETH',\n",
       "  u'base_max_size': u'1000000',\n",
       "  u'base_min_size': u'0.01',\n",
       "  u'display_name': u'ETH/EUR',\n",
       "  u'id': u'ETH-EUR',\n",
       "  u'margin_enabled': False,\n",
       "  u'quote_currency': u'EUR',\n",
       "  u'quote_increment': u'0.01',\n",
       "  u'status': u'online',\n",
       "  u'status_message': None}]"
      ]
     },
     "execution_count": 1,
     "metadata": {},
     "output_type": "execute_result"
    }
   ],
   "source": [
    "\"\"\"\n",
    "Sample code to trade in Gdax.\n",
    "\n",
    "https://cryptostag.com/basic-gdax-api-trading-with-python/\n",
    "\"\"\"\n",
    "\n",
    "from utils import *\n",
    "\n",
    "products()"
   ]
  },
  {
   "cell_type": "code",
   "execution_count": 7,
   "metadata": {
    "collapsed": true
   },
   "outputs": [],
   "source": []
  },
  {
   "cell_type": "code",
   "execution_count": 10,
   "metadata": {
    "collapsed": false
   },
   "outputs": [],
   "source": []
  },
  {
   "cell_type": "code",
   "execution_count": 58,
   "metadata": {
    "collapsed": false
   },
   "outputs": [],
   "source": [
    "\n"
   ]
  },
  {
   "cell_type": "code",
   "execution_count": 65,
   "metadata": {
    "collapsed": false
   },
   "outputs": [
    {
     "name": "stdout",
     "output_type": "stream",
     "text": [
      "{u'status': u'rejected', u'created_at': u'2017-12-07T05:43:49.658338Z', u'post_only': True, u'product_id': u'BTC-USD', u'fill_fees': u'0.0000000000000000', u'reject_reason': u'post only', u'price': u'12114.00000000', u'executed_value': u'0.0000000000000000', u'id': u'501f827b-ba2a-4563-8242-c7f431f5bb67', u'time_in_force': u'GTC', u'stp': u'dc', u'settled': False, u'filled_size': u'0.00000000', u'type': u'limit', u'side': u'sell', u'size': u'0.11000000'}\n",
      "{u'status': u'rejected', u'created_at': u'2017-12-07T05:43:49.658338Z', u'post_only': True, u'product_id': u'BTC-USD', u'fill_fees': u'0.0000000000000000', u'reject_reason': u'post only', u'price': u'12114.00000000', u'executed_value': u'0.0000000000000000', u'id': u'501f827b-ba2a-4563-8242-c7f431f5bb67', u'time_in_force': u'GTC', u'stp': u'dc', u'settled': True, u'filled_size': u'0.00000000', u'type': u'limit', u'side': u'sell', u'size': u'0.11000000'}\n"
     ]
    }
   ],
   "source": [
    "api_base = 'https://api-public.sandbox.gdax.com'\n",
    "api_key = '3b2d809374aa5e108403bc26bc7f60f5'\n",
    "api_secret = 'sodHfUHiM7iixmRyclcNGSstygTUrE4siNxZsrmzBnksT80rVyy3DGI3UPsZETsfvbZtLQrL0Ryz83oBCU37rQ=='\n",
    "passphrase = '4uuo4jzy3od1m3yls9weak0529'\n",
    "\n",
    "product_id = 'BTC-USD'\n",
    "size = '0.11'\n",
    "side = 'sell'\n",
    "price = '12114'\n",
    "\n",
    "\n",
    "response = buy_limit(product_id, price, side, size, post_only=True)\n",
    "print(response)\n",
    "response = order_status(response['id'])\n",
    "print(response)\n"
   ]
  },
  {
   "cell_type": "code",
   "execution_count": null,
   "metadata": {
    "collapsed": true
   },
   "outputs": [],
   "source": []
  },
  {
   "cell_type": "code",
   "execution_count": null,
   "metadata": {
    "collapsed": true
   },
   "outputs": [],
   "source": []
  }
 ],
 "metadata": {
  "kernelspec": {
   "display_name": "Python 2",
   "language": "python",
   "name": "python2"
  },
  "language_info": {
   "codemirror_mode": {
    "name": "ipython",
    "version": 2
   },
   "file_extension": ".py",
   "mimetype": "text/x-python",
   "name": "python",
   "nbconvert_exporter": "python",
   "pygments_lexer": "ipython2",
   "version": "2.7.12"
  }
 },
 "nbformat": 4,
 "nbformat_minor": 2
}
