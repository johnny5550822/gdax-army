{
 "cells": [
  {
   "cell_type": "code",
   "execution_count": 69,
   "metadata": {
    "collapsed": false,
    "scrolled": false
   },
   "outputs": [
    {
     "name": "stdout",
     "output_type": "stream",
     "text": [
      "The autoreload extension is already loaded. To reload it, use:\n",
      "  %reload_ext autoreload\n",
      "{u'status': u'pending', u'created_at': u'2017-12-07T07:02:18.930743Z', u'post_only': False, u'product_id': u'BTC-USD', u'fill_fees': u'0.0000000000000000', u'settled': False, u'price': u'12114.00000000', u'executed_value': u'0.0000000000000000', u'id': u'ed2bd33f-a805-4091-9085-0dd5cd9bb63e', u'time_in_force': u'GTC', u'stp': u'co', u'filled_size': u'0.00000000', u'type': u'limit', u'side': u'buy', u'size': u'0.05000000'}\n",
      "{u'status': u'open', u'created_at': u'2017-12-07T07:02:18.930743Z', u'post_only': False, u'product_id': u'BTC-USD', u'fill_fees': u'0.0000000000000000', u'settled': False, u'price': u'12114.00000000', u'executed_value': u'0.0000000000000000', u'id': u'ed2bd33f-a805-4091-9085-0dd5cd9bb63e', u'time_in_force': u'GTC', u'stp': u'dc', u'filled_size': u'0.00000000', u'type': u'limit', u'side': u'buy', u'size': u'0.05000000'}\n"
     ]
    }
   ],
   "source": [
    "\"\"\"\n",
    "Modified simple code to trade in Gdax.\n",
    "\n",
    "Original source: https://cryptostag.com/basic-gdax-api-trading-with-python/\n",
    "\"\"\"\n",
    "from utils import *\n",
    "\n",
    "%load_ext autoreload\n",
    "%autoreload 2\n",
    "\n",
    "api_base = 'https://api-public.sandbox.gdax.com'\n",
    "api_key = '3b2d809374aa5e108403bc26bc7f60f5'\n",
    "secret_key = 'sodHfUHiM7iixmRyclcNGSstygTUrE4siNxZsrmzBnksT80rVyy3DGI3UPsZETsfvbZtLQrL0Ryz83oBCU37rQ=='\n",
    "passphrase = '4uuo4jzy3od1m3yls9weak0529'\n",
    "\n",
    "\n",
    "product_id = 'BTC-USD'\n",
    "side = 'buy'\n",
    "size = '0.05'\n",
    "price = '12114'\n",
    "type_ = 'limit'\n",
    "time_in_force='GTC' \n",
    "stp='co'\n",
    "cancel_after=None\n",
    "post_only=None\n",
    "\n",
    "\n",
    "trader = Trader(api_base, api_key, secret_key, passphrase)\n",
    "response = trader.trade(product_id=product_id, \n",
    "                         side=side, \n",
    "                         size=size, \n",
    "                         price=price,\n",
    "                         type_=type_, \n",
    "                         time_in_force=time_in_force,\n",
    "                         stp=stp,\n",
    "                         cancel_after=cancel_after, \n",
    "                         post_only=post_only)\n",
    "\n",
    "print(response)\n",
    "\n",
    "# response = buy_limit(product_id, price, side, size, post_only=True)\n",
    "# print(response)\n",
    "# response = order_status(response['id'])\n",
    "# print(response)\n"
   ]
  },
  {
   "cell_type": "code",
   "execution_count": null,
   "metadata": {
    "collapsed": true
   },
   "outputs": [],
   "source": []
  },
  {
   "cell_type": "code",
   "execution_count": 10,
   "metadata": {
    "collapsed": false
   },
   "outputs": [],
   "source": []
  },
  {
   "cell_type": "code",
   "execution_count": 58,
   "metadata": {
    "collapsed": false
   },
   "outputs": [],
   "source": [
    "\n"
   ]
  },
  {
   "cell_type": "code",
   "execution_count": 65,
   "metadata": {
    "collapsed": false
   },
   "outputs": [
    {
     "name": "stdout",
     "output_type": "stream",
     "text": [
      "{u'status': u'rejected', u'created_at': u'2017-12-07T05:43:49.658338Z', u'post_only': True, u'product_id': u'BTC-USD', u'fill_fees': u'0.0000000000000000', u'reject_reason': u'post only', u'price': u'12114.00000000', u'executed_value': u'0.0000000000000000', u'id': u'501f827b-ba2a-4563-8242-c7f431f5bb67', u'time_in_force': u'GTC', u'stp': u'dc', u'settled': False, u'filled_size': u'0.00000000', u'type': u'limit', u'side': u'sell', u'size': u'0.11000000'}\n",
      "{u'status': u'rejected', u'created_at': u'2017-12-07T05:43:49.658338Z', u'post_only': True, u'product_id': u'BTC-USD', u'fill_fees': u'0.0000000000000000', u'reject_reason': u'post only', u'price': u'12114.00000000', u'executed_value': u'0.0000000000000000', u'id': u'501f827b-ba2a-4563-8242-c7f431f5bb67', u'time_in_force': u'GTC', u'stp': u'dc', u'settled': True, u'filled_size': u'0.00000000', u'type': u'limit', u'side': u'sell', u'size': u'0.11000000'}\n"
     ]
    }
   ],
   "source": []
  },
  {
   "cell_type": "code",
   "execution_count": null,
   "metadata": {
    "collapsed": true
   },
   "outputs": [],
   "source": []
  },
  {
   "cell_type": "code",
   "execution_count": null,
   "metadata": {
    "collapsed": true
   },
   "outputs": [],
   "source": []
  }
 ],
 "metadata": {
  "kernelspec": {
   "display_name": "Python 2",
   "language": "python",
   "name": "python2"
  },
  "language_info": {
   "codemirror_mode": {
    "name": "ipython",
    "version": 2
   },
   "file_extension": ".py",
   "mimetype": "text/x-python",
   "name": "python",
   "nbconvert_exporter": "python",
   "pygments_lexer": "ipython2",
   "version": "2.7.12"
  }
 },
 "nbformat": 4,
 "nbformat_minor": 2
}
